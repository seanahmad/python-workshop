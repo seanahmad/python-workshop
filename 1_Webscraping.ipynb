{
 "cells": [
  {
   "cell_type": "markdown",
   "metadata": {},
   "source": [
    "# Introducing Python Workshop #\n",
    "### Session I - Web scraping is easy with Python ###"
   ]
  },
  {
   "cell_type": "code",
   "execution_count": null,
   "metadata": {},
   "outputs": [],
   "source": [
    "import requests\n",
    "from bs4 import BeautifulSoup\n",
    "import pandas as pd\n",
    "\n",
    "# request data from website and store in a variable\n",
    "website_url = requests.get(\"https://en.wikipedia.org/wiki/List_of_largest_companies_by_revenue\")\n",
    "website_content = website_url.text\n",
    "\n",
    "# convert data to soup object for easy html parsing\n",
    "soup = BeautifulSoup(website_content, \"lxml\")\n",
    "my_table = soup.find( 'table', {'class':'wikitable sortable'} )\n",
    "\n",
    "# parse the table and convert to Python dictionary\n",
    "mytable_dict = { 'Rank':[], 'Name':[], 'Industry':[], 'Revenue':[], 'Revenue_Growth':[], 'Employees':[], 'Country':[] }\n",
    "\n",
    "for eachrow in my_table('tr')[1:]:\n",
    "    cells = eachrow(['th', 'td'])\n",
    "    \n",
    "    mytable_dict['Rank'].append( cells[0].find(text=True).strip() )\n",
    "    mytable_dict['Name'].append( cells[1].find(text=True).strip() )\n",
    "    mytable_dict['Industry'].append( cells[2].find(text=True).strip() )\n",
    "    mytable_dict['Revenue'].append( cells[3].find(text=True).strip() )\n",
    "    mytable_dict['Employees'].append( cells[5].find(text=True).strip() )\n",
    "    \n",
    "    mytable_dict['Revenue_Growth'].append( cells[4].text )\n",
    "    mytable_dict['Country'].append( cells[6].select('.flagicon > a')[0].get('title') )\n",
    "    \n",
    "df = pd.DataFrame(mytable_dict)\n",
    "df.to_csv('companies_by_revenue.csv', index=False)"
   ]
  },
  {
   "cell_type": "code",
   "execution_count": null,
   "metadata": {},
   "outputs": [],
   "source": []
  },
  {
   "cell_type": "code",
   "execution_count": null,
   "metadata": {},
   "outputs": [],
   "source": []
  }
 ],
 "metadata": {
  "kernelspec": {
   "display_name": "Python 3",
   "language": "python",
   "name": "python3"
  },
  "language_info": {
   "codemirror_mode": {
    "name": "ipython",
    "version": 3
   },
   "file_extension": ".py",
   "mimetype": "text/x-python",
   "name": "python",
   "nbconvert_exporter": "python",
   "pygments_lexer": "ipython3",
   "version": "3.6.8"
  }
 },
 "nbformat": 4,
 "nbformat_minor": 2
}
