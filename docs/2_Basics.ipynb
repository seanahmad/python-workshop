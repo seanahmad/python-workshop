{
 "cells": [
  {
   "cell_type": "markdown",
   "metadata": {},
   "source": [
    "We will take an example that uses many feature of Python programming language. As they come we will understand them one by one. \n",
    "\n",
    "__Imports__\n",
    "\n",
    "Python's extended libraries need to be imported before they can be used. Here we will import a function called \"urlopen\" from \"urllib\" module. "
   ]
  },
  {
   "cell_type": "code",
   "execution_count": 7,
   "metadata": {},
   "outputs": [],
   "source": [
    "from urllib.request import urlopen"
   ]
  },
  {
   "cell_type": "code",
   "execution_count": 23,
   "metadata": {},
   "outputs": [],
   "source": [
    "#dir(urlopen)"
   ]
  },
  {
   "cell_type": "markdown",
   "metadata": {},
   "source": [
    "<br> \n",
    "__Statements and Expression__\n",
    "\n",
    "Statements and Expression are basics of computer programs. Statements carry out some action and expressions typically describe computations. \n",
    "\n",
    "Here is an example of an __assignment__ statement, which creates a variable named \"shakespeare\" and assigns it to the expression that follows \"=\", which is a url location of a shakespearean text. This text is referred to as string. "
   ]
  },
  {
   "cell_type": "code",
   "execution_count": 25,
   "metadata": {},
   "outputs": [],
   "source": [
    "shakespeare = \"http://composingprograms.com/shakespeare.txt\""
   ]
  },
  {
   "cell_type": "markdown",
   "metadata": {},
   "source": [
    "<br> \n",
    "__Values and Types__\n",
    "\n",
    "A program works with values. Values can be numbers or texts including special characters. Values belong to different types. Numbers are usually of type integer or float and texts are of type string. \n",
    "\n",
    "In our example the url location is combination of texts and belongs to type string. Python provides a type function to check the type of variables. "
   ]
  },
  {
   "cell_type": "code",
   "execution_count": 2,
   "metadata": {},
   "outputs": [
    {
     "name": "stdout",
     "output_type": "stream",
     "text": [
      "<class 'str'>\n"
     ]
    }
   ],
   "source": [
    "print( type(shakespeare) )"
   ]
  },
  {
   "cell_type": "markdown",
   "metadata": {},
   "source": [
    "<br> \n",
    "__Strings__\n",
    "\n",
    "Strings are sequence of characters. Strings are contained by either single or double quotes. Two string can be combined by using __\"+ operator\"__ and repeated by __\"* operator\"__. "
   ]
  },
  {
   "cell_type": "code",
   "execution_count": 3,
   "metadata": {},
   "outputs": [
    {
     "name": "stdout",
     "output_type": "stream",
     "text": [
      "http://composingprograms.com/shakespeare.txt - http://composingprograms.com/shakespeare.txt\n",
      "http://composingprograms.com/shakespeare.txthttp://composingprograms.com/shakespeare.txthttp://composingprograms.com/shakespeare.txt\n"
     ]
    }
   ],
   "source": [
    "print( shakespeare + ' - ' + shakespeare)\n",
    "print(shakespeare * 3)"
   ]
  },
  {
   "cell_type": "markdown",
   "metadata": {},
   "source": [
    "<br> \n",
    "__Variables__\n",
    "\n",
    "A powerful feature of programming languages is the ability to manipulate variables. Variable is a name that refers to a value. There are naming rules for naming a variable. For example, variable names cannot start with a number or contain space. NameError is a common error in programming. It occurs when a naming rule is violated. \n",
    "\n",
    "It is a good practice to have desCriptive but concise variable names. "
   ]
  },
  {
   "cell_type": "code",
   "execution_count": 5,
   "metadata": {},
   "outputs": [
    {
     "ename": "SyntaxError",
     "evalue": "invalid syntax (<ipython-input-5-08b2f5fdbdbf>, line 1)",
     "output_type": "error",
     "traceback": [
      "\u001b[0;36m  File \u001b[0;32m\"<ipython-input-5-08b2f5fdbdbf>\"\u001b[0;36m, line \u001b[0;32m1\u001b[0m\n\u001b[0;31m    1shakes peare = 'http://composingprograms.com/shakespeare.txt'\u001b[0m\n\u001b[0m          ^\u001b[0m\n\u001b[0;31mSyntaxError\u001b[0m\u001b[0;31m:\u001b[0m invalid syntax\n"
     ]
    }
   ],
   "source": [
    "1shakespeare = 'http://composingprograms.com/shakespeare.txt'"
   ]
  },
  {
   "cell_type": "markdown",
   "metadata": {},
   "source": [
    "<br> We will now use the 'urlopen' function to get the actual content of this url and assign it back to the same variable named \"shakespeare\". "
   ]
  },
  {
   "cell_type": "code",
   "execution_count": 26,
   "metadata": {},
   "outputs": [],
   "source": [
    "shakespeare = urlopen(shakespeare)"
   ]
  },
  {
   "cell_type": "markdown",
   "metadata": {},
   "source": [
    "<br> The variable \"shakespeare\" no longer belongs to type string. \n",
    "\n",
    "We have reassigned the variable to another expression. This expression applies the function 'urlopen' to the previous value of the variable 'shakespeare' and contains the information of the Shakespearean text. "
   ]
  },
  {
   "cell_type": "code",
   "execution_count": 9,
   "metadata": {},
   "outputs": [
    {
     "name": "stdout",
     "output_type": "stream",
     "text": [
      "<class 'http.client.HTTPResponse'>\n"
     ]
    }
   ],
   "source": [
    "print( type(shakespeare) )"
   ]
  },
  {
   "cell_type": "code",
   "execution_count": 18,
   "metadata": {},
   "outputs": [],
   "source": [
    "#dir(shakespeare.read().decode())"
   ]
  },
  {
   "cell_type": "code",
   "execution_count": 24,
   "metadata": {},
   "outputs": [],
   "source": [
    "#dir(\"hello world\")"
   ]
  },
  {
   "cell_type": "markdown",
   "metadata": {},
   "source": [
    "<br> \n",
    "__Functions__\n",
    "\n",
    "Variables are manipulated using functions (and operators). The name of the function is bound to compound operation. A url location in itself is one piece of data and the content of the url location is another piece of data. The process of getting the content of url from its url location is complex and the function 'urlopen' simplifies it for us. This function takes the url location, runs some operations with it and gives us an output which has the contents of the webpage.  \n",
    "\n",
    "This output is an object of class \"http.client.HTTPResponse\". We will not get into the details of classes in this workshop. Only briefly we will say that each class instance can have attributes attached to it. Class instances can also have methods for modifying its state. These methods can be accessed using __\"dot operator\"__. Let's use these methods and look at the contents of the website."
   ]
  },
  {
   "cell_type": "code",
   "execution_count": 31,
   "metadata": {},
   "outputs": [
    {
     "data": {
      "text/plain": [
       "['A',\n",
       " \"MIDSUMMER-NIGHT'S\",\n",
       " 'DREAM',\n",
       " 'Now',\n",
       " ',',\n",
       " 'fair',\n",
       " 'Hippolyta',\n",
       " ',',\n",
       " 'our',\n",
       " 'nuptial',\n",
       " 'hour',\n",
       " 'Draws',\n",
       " 'on',\n",
       " 'apace',\n",
       " ':',\n",
       " 'four',\n",
       " 'happy',\n",
       " 'days',\n",
       " 'bring',\n",
       " 'in',\n",
       " 'Another',\n",
       " 'moon',\n",
       " ';',\n",
       " 'but',\n",
       " 'O',\n",
       " '!',\n",
       " 'methinks',\n",
       " 'how',\n",
       " 'slow',\n",
       " 'This',\n",
       " 'old',\n",
       " 'moon',\n",
       " 'wanes',\n",
       " ';',\n",
       " 'she',\n",
       " 'lingers',\n",
       " 'my',\n",
       " 'desires',\n",
       " ',',\n",
       " 'Like',\n",
       " 'to',\n",
       " 'a',\n",
       " 'step',\n",
       " 'dame',\n",
       " ',',\n",
       " 'or',\n",
       " 'a',\n",
       " 'dowager',\n",
       " 'Long',\n",
       " 'withering',\n",
       " 'out',\n",
       " 'a',\n",
       " 'young',\n",
       " \"man's\",\n",
       " 'revenue',\n",
       " '.',\n",
       " 'Four',\n",
       " 'days',\n",
       " 'will',\n",
       " 'quickly',\n",
       " 'steep',\n",
       " 'themselves',\n",
       " 'in',\n",
       " 'night',\n",
       " ';',\n",
       " 'Four',\n",
       " 'nights',\n",
       " 'will',\n",
       " 'quickly',\n",
       " 'dream',\n",
       " 'away',\n",
       " 'the',\n",
       " 'time',\n",
       " ';',\n",
       " 'And',\n",
       " 'then',\n",
       " 'the',\n",
       " 'moon',\n",
       " ',',\n",
       " 'like',\n",
       " 'to',\n",
       " 'a',\n",
       " 'silver',\n",
       " 'bow',\n",
       " 'New-bent',\n",
       " 'in',\n",
       " 'heaven',\n",
       " ',',\n",
       " 'shall',\n",
       " 'behold',\n",
       " 'the',\n",
       " 'night',\n",
       " 'Of',\n",
       " 'our',\n",
       " 'solemnities',\n",
       " '.',\n",
       " 'Go',\n",
       " ',',\n",
       " 'Philostrate',\n",
       " ',',\n",
       " 'Stir',\n",
       " 'up',\n",
       " 'the',\n",
       " 'Athenian',\n",
       " 'youth',\n",
       " 'to',\n",
       " 'merriments',\n",
       " ';',\n",
       " 'Awake',\n",
       " 'the',\n",
       " 'pert',\n",
       " 'and',\n",
       " 'nimble',\n",
       " 'spirit',\n",
       " 'of',\n",
       " 'mirth',\n",
       " ';',\n",
       " 'Turn',\n",
       " 'melancholy',\n",
       " 'forth',\n",
       " 'to',\n",
       " 'funerals',\n",
       " ';',\n",
       " 'The',\n",
       " 'pale',\n",
       " 'companion',\n",
       " 'is',\n",
       " 'not',\n",
       " 'for',\n",
       " 'our',\n",
       " 'pomp',\n",
       " '.',\n",
       " 'Hippolyta',\n",
       " ',',\n",
       " 'I',\n",
       " \"woo'd\",\n",
       " 'thee',\n",
       " 'with',\n",
       " 'my',\n",
       " 'sword',\n",
       " ',',\n",
       " 'And',\n",
       " 'won',\n",
       " 'thy',\n",
       " 'love',\n",
       " 'doing',\n",
       " 'thee',\n",
       " 'injuries',\n",
       " ';',\n",
       " 'But']"
      ]
     },
     "execution_count": 31,
     "metadata": {},
     "output_type": "execute_result"
    }
   ],
   "source": [
    "#words = shakespeare.read().decode().split()\n",
    "words[:150]"
   ]
  },
  {
   "cell_type": "code",
   "execution_count": 29,
   "metadata": {},
   "outputs": [
    {
     "name": "stdout",
     "output_type": "stream",
     "text": [
      "<class 'list'>\n"
     ]
    }
   ],
   "source": [
    "print( type(words) )"
   ]
  },
  {
   "cell_type": "markdown",
   "metadata": {},
   "source": [
    "<br> \n",
    "__List__ \n",
    "\n",
    "A list is a mutable, ordered sequence of items. It can be indexed, sliced and changed. Each element can be accessed using its position in the list. \n",
    "\n",
    "In our example words is a variable that refers to a list of words that exist in the Shakespearean text including the title \"A MIDSUMMER_NIGHT\"S DREAM\". Let's separate the title from the body of text. "
   ]
  },
  {
   "cell_type": "code",
   "execution_count": 32,
   "metadata": {},
   "outputs": [
    {
     "name": "stdout",
     "output_type": "stream",
     "text": [
      "['A', \"MIDSUMMER-NIGHT'S\", 'DREAM']\n",
      "['Now', ',', 'fair', 'Hippolyta', ',', 'our', 'nuptial', 'hour', 'Draws', 'on']\n"
     ]
    }
   ],
   "source": [
    "title = words[:3]\n",
    "body = words[3:]\n",
    "print( title )\n",
    "print( body[:10])"
   ]
  },
  {
   "cell_type": "markdown",
   "metadata": {},
   "source": [
    "<br>\n",
    "\n",
    "__Indexing Operator__\n",
    "\n",
    "Indexing operator ([ ]) selects one or more elements from a sequence. Each element of a sequence is assigned a number - its position or index. Index must be an integer value and is called inside the square bracket. \n",
    "\n",
    "The operation that extracts a subsequence is called __slicing__. When selecting more than one element __\": operator\"__ is used with integer before and after it to indicate where to start and where to stop the index, respectively.\n",
    "\n",
    "Python indexing starts at 0 and ends at (n-1), where n refers to the number of items in the sequence. The function \"len\" can be used to get the number of items in a list. \n",
    "\n",
    "Negative indexing is also supported by Python. It can be done by adding \"-\" operator before the integer value."
   ]
  },
  {
   "cell_type": "code",
   "execution_count": 35,
   "metadata": {},
   "outputs": [
    {
     "name": "stdout",
     "output_type": "stream",
     "text": [
      ".\n"
     ]
    }
   ],
   "source": [
    "n_words = len(body)\n",
    "print( n_words )\n",
    "print( body[980634])"
   ]
  },
  {
   "cell_type": "code",
   "execution_count": 104,
   "metadata": {},
   "outputs": [
    {
     "name": "stdout",
     "output_type": "stream",
     "text": [
      ".\n",
      ".\n"
     ]
    }
   ],
   "source": [
    "print( body[980633])\n",
    "print( body[-1])"
   ]
  },
  {
   "cell_type": "code",
   "execution_count": 37,
   "metadata": {},
   "outputs": [
    {
     "name": "stdout",
     "output_type": "stream",
     "text": [
      "['Now', ',', 'fair', 'Hippolyta', ',', 'our', 'nuptial', 'hour', 'Draws', 'on']\n"
     ]
    }
   ],
   "source": [
    "sub_body = body[:10]\n",
    "print( sub_body)\n"
   ]
  },
  {
   "cell_type": "code",
   "execution_count": 132,
   "metadata": {},
   "outputs": [
    {
     "name": "stdout",
     "output_type": "stream",
     "text": [
      "['Now', ',', 'fair', 'Hippolyta', ',', 'our', 'nuptial', 'hour']\n"
     ]
    }
   ],
   "source": [
    "print( sub_body[:-2])"
   ]
  },
  {
   "cell_type": "code",
   "execution_count": 133,
   "metadata": {},
   "outputs": [
    {
     "name": "stdout",
     "output_type": "stream",
     "text": [
      "['Now', 'fair', ',', 'nuptial', 'Draws']\n"
     ]
    }
   ],
   "source": [
    "print( sub_body[::2])    # gives every 2nd element"
   ]
  },
  {
   "cell_type": "code",
   "execution_count": 134,
   "metadata": {},
   "outputs": [
    {
     "name": "stdout",
     "output_type": "stream",
     "text": [
      "['on', 'Draws', 'hour', 'nuptial', 'our', ',', 'Hippolyta', 'fair', ',', 'Now']\n"
     ]
    }
   ],
   "source": [
    "print( sub_body[::-1])   # backward indexing"
   ]
  },
  {
   "cell_type": "code",
   "execution_count": 135,
   "metadata": {},
   "outputs": [
    {
     "name": "stdout",
     "output_type": "stream",
     "text": [
      "['on', 'hour', 'our', 'Hippolyta', ',']\n"
     ]
    }
   ],
   "source": [
    "print( sub_body[::-2])   # backward indexing of every 2nd element"
   ]
  },
  {
   "cell_type": "markdown",
   "metadata": {},
   "source": [
    "<br>\n",
    "\n",
    "__Arithmetic Operator__\n",
    "\n",
    "Just like the strings, lists can also be manipulated using \"+\", \"\\*\" and other such operators known as arithmetic operators. "
   ]
  },
  {
   "cell_type": "code",
   "execution_count": 38,
   "metadata": {},
   "outputs": [
    {
     "name": "stdout",
     "output_type": "stream",
     "text": [
      "['A', \"MIDSUMMER-NIGHT'S\", 'DREAM', 'Now', ',', 'fair', 'Hippolyta', ',', 'our', 'nuptial', 'hour', 'Draws', 'on']\n"
     ]
    }
   ],
   "source": [
    "new_list = title + sub_body\n",
    "print(new_list)"
   ]
  },
  {
   "cell_type": "code",
   "execution_count": 42,
   "metadata": {},
   "outputs": [
    {
     "data": {
      "text/plain": [
       "True"
      ]
     },
     "execution_count": 42,
     "metadata": {},
     "output_type": "execute_result"
    }
   ],
   "source": [
    "numeric_list = [1, 2, 3]\n",
    "1 in numeric_list"
   ]
  },
  {
   "cell_type": "markdown",
   "metadata": {},
   "source": [
    "Arithmetic operators behave differently on lists and strings vs integers and float. "
   ]
  },
  {
   "cell_type": "code",
   "execution_count": 41,
   "metadata": {},
   "outputs": [
    {
     "name": "stdout",
     "output_type": "stream",
     "text": [
      "10\n",
      "-1.0\n",
      "15\n",
      "4.0\n"
     ]
    }
   ],
   "source": [
    "print( 5 + 5 )          # addition\n",
    "print( 5.5 - 6.5 )      # substraction\n",
    "print( 5 * 3 )          # multiplication\n",
    "print( 5.5 // 1.25 )    # floor division"
   ]
  },
  {
   "cell_type": "markdown",
   "metadata": {},
   "source": [
    "<br> __Iterations__\n",
    "\n",
    "Iterations are useful for manipulating each item in the list. For example, if we want to multiply each element of the list by 3, we can do that using __for statement__, which makes iterations very easy. Note that the behavior of the operator will be different for different types of elements in a list. \n",
    "\n",
    "\"in\" is a __membership operators__, such as \"in\" and \"not in\"."
   ]
  },
  {
   "cell_type": "code",
   "execution_count": 44,
   "metadata": {},
   "outputs": [
    {
     "name": "stdout",
     "output_type": "stream",
     "text": [
      "['A', \"MIDSUMMER-NIGHT'S\", 'DREAM', 1, 2, 3]\n"
     ]
    }
   ],
   "source": [
    "mixed_list = title + numeric_list\n",
    "print(mixed_list)"
   ]
  },
  {
   "cell_type": "code",
   "execution_count": 45,
   "metadata": {},
   "outputs": [
    {
     "name": "stdout",
     "output_type": "stream",
     "text": [
      "AAA\n",
      "MIDSUMMER-NIGHT'SMIDSUMMER-NIGHT'SMIDSUMMER-NIGHT'S\n",
      "DREAMDREAMDREAM\n",
      "3\n",
      "6\n",
      "9\n"
     ]
    }
   ],
   "source": [
    "for element in mixed_list:\n",
    "    print(element*3)"
   ]
  },
  {
   "cell_type": "code",
   "execution_count": 46,
   "metadata": {},
   "outputs": [
    {
     "data": {
      "text/plain": [
       "['Now', ',', 'fair', 'Hippolyta', ',', 'our', 'nuptial', 'hour', 'Draws', 'on']"
      ]
     },
     "execution_count": 46,
     "metadata": {},
     "output_type": "execute_result"
    }
   ],
   "source": [
    "sub_body"
   ]
  },
  {
   "cell_type": "code",
   "execution_count": 47,
   "metadata": {},
   "outputs": [
    {
     "data": {
      "text/plain": [
       "['now', ',', 'fair', 'hippolyta', ',', 'our', 'nuptial', 'hour', 'draws', 'on']"
      ]
     },
     "execution_count": 47,
     "metadata": {},
     "output_type": "execute_result"
    }
   ],
   "source": [
    "sub_body_lowercase = []\n",
    "for word in sub_body:\n",
    "        sub_body_lowercase.append( word.lower() )\n",
    "sub_body_lowercase"
   ]
  },
  {
   "cell_type": "code",
   "execution_count": null,
   "metadata": {},
   "outputs": [],
   "source": []
  },
  {
   "cell_type": "markdown",
   "metadata": {},
   "source": [
    "<br> __Conditionals__\n",
    "\n",
    "In order to write useful programs, we almost always need the ability to check conditions and change the behavior of program accordingly. In Python, conditionals can be created with __if directive__. \n",
    "\n",
    "Conditionals are often combined with __comparison operators__. In the conditional below, we used \"==\" (is equal to), which is an example of conditional operator. Other examples include \"!=\" (is not equal to), \">=\" (is greater than or equal to), etc."
   ]
  },
  {
   "cell_type": "code",
   "execution_count": 49,
   "metadata": {},
   "outputs": [
    {
     "name": "stdout",
     "output_type": "stream",
     "text": [
      "7 is not of type string.\n"
     ]
    }
   ],
   "source": [
    "#my_string = 'some text'\n",
    "my_string = 7\n",
    "if type(my_string) == str:\n",
    "    print( str(my_string) + ' is of type string.')\n",
    "else:\n",
    "    print( str(my_string) + ' is not of type string.')"
   ]
  },
  {
   "cell_type": "code",
   "execution_count": null,
   "metadata": {},
   "outputs": [],
   "source": [
    "# conditionally slice a list\n",
    "my_string[]"
   ]
  },
  {
   "cell_type": "code",
   "execution_count": 52,
   "metadata": {},
   "outputs": [
    {
     "name": "stdout",
     "output_type": "stream",
     "text": [
      "['A', \"MIDSUMMER-NIGHT'S\", 'DREAM', 1, 2, 3]\n",
      "[1, 2, 3]\n"
     ]
    }
   ],
   "source": [
    "print(mixed_list)\n",
    "print(numeric_list)"
   ]
  },
  {
   "cell_type": "markdown",
   "metadata": {},
   "source": [
    "Iterators and conditionals can be combined together to manipulate each element of a list conditionally. "
   ]
  },
  {
   "cell_type": "code",
   "execution_count": 53,
   "metadata": {},
   "outputs": [
    {
     "name": "stdout",
     "output_type": "stream",
     "text": [
      "No\n",
      "No\n",
      "No\n",
      "Yes\n",
      "Yes\n",
      "Yes\n"
     ]
    }
   ],
   "source": [
    "for element in mixed_list:\n",
    "    if element in numeric_list:\n",
    "        print('Yes')\n",
    "    else:\n",
    "        print('No')"
   ]
  },
  {
   "cell_type": "markdown",
   "metadata": {},
   "source": [
    "<br> __Dictionary__\n",
    "\n",
    "Dictionary is a mutable, unordered set of key-value pairs. Each key must be unique but values do not have to be. Each key is separated from its value by \":\" and each key-value pair is separated from the next with a comma. To access a given element in a dictionary, we must refer to it by its key. Dictionaries are written using curly brackets. \"{ }\" creates an empty dictionary."
   ]
  },
  {
   "cell_type": "code",
   "execution_count": 54,
   "metadata": {},
   "outputs": [
    {
     "name": "stdout",
     "output_type": "stream",
     "text": [
      "<class 'dict'>\n"
     ]
    }
   ],
   "source": [
    "my_dict = { }\n",
    "print( type(my_dict) )"
   ]
  },
  {
   "cell_type": "code",
   "execution_count": 55,
   "metadata": {},
   "outputs": [
    {
     "data": {
      "text/plain": [
       "['basketball', 'football', 'swimming']"
      ]
     },
     "execution_count": 55,
     "metadata": {},
     "output_type": "execute_result"
    }
   ],
   "source": [
    "my_dict = { 'Name':'John', 'Age':35, 'Hobbies':['basketball', 'football', 'swimming']}\n",
    "my_dict['Hobbies']"
   ]
  },
  {
   "cell_type": "code",
   "execution_count": 56,
   "metadata": {},
   "outputs": [
    {
     "data": {
      "text/plain": [
       "{'Name': 'John',\n",
       " 'Age': 35,\n",
       " 'Hobbies': ['basketball', 'football', 'swimming'],\n",
       " 'Last Name': 'Smith'}"
      ]
     },
     "execution_count": 56,
     "metadata": {},
     "output_type": "execute_result"
    }
   ],
   "source": [
    "my_dict['Last Name'] = \"Smith\"\n",
    "my_dict"
   ]
  },
  {
   "cell_type": "markdown",
   "metadata": {},
   "source": [
    "<br>\n",
    "\n",
    "__Lists, dictionaries, conditionals and iterations can be combined together to perform complex computations.__ \n",
    "\n",
    "For example, if we want to find out the frequency of each words and punctuations that appear in the Shakespearean text, we can do so as:"
   ]
  },
  {
   "cell_type": "code",
   "execution_count": 57,
   "metadata": {},
   "outputs": [],
   "source": [
    "freq_words = {}\n",
    "\n",
    "for word in words:\n",
    "    if word in freq_words:\n",
    "        freq_words[word] = freq_words[word] + 1\n",
    "    else:\n",
    "        freq_words[word] = 1\n",
    "        \n",
    "#freq_words"
   ]
  },
  {
   "cell_type": "code",
   "execution_count": 63,
   "metadata": {},
   "outputs": [],
   "source": [
    "#freq_words"
   ]
  },
  {
   "cell_type": "code",
   "execution_count": 60,
   "metadata": {},
   "outputs": [
    {
     "data": {
      "text/plain": [
       "33505"
      ]
     },
     "execution_count": 60,
     "metadata": {},
     "output_type": "execute_result"
    }
   ],
   "source": [
    "len( freq_words.keys() )"
   ]
  },
  {
   "cell_type": "code",
   "execution_count": 61,
   "metadata": {},
   "outputs": [
    {
     "name": "stdout",
     "output_type": "stream",
     "text": [
      "27\n",
      "48\n",
      "410\n"
     ]
    }
   ],
   "source": [
    "# call it directly by the string example\n",
    "print( freq_words[\"daughter's\"] )\n",
    "#print( freq_words[\"daughters\"] )\n",
    "#print( freq_words[\"daughter\"] )"
   ]
  },
  {
   "cell_type": "code",
   "execution_count": null,
   "metadata": {},
   "outputs": [],
   "source": [
    "# List Comprhension"
   ]
  }
 ],
 "metadata": {
  "kernelspec": {
   "display_name": "Python 3",
   "language": "python",
   "name": "python3"
  },
  "language_info": {
   "codemirror_mode": {
    "name": "ipython",
    "version": 3
   },
   "file_extension": ".py",
   "mimetype": "text/x-python",
   "name": "python",
   "nbconvert_exporter": "python",
   "pygments_lexer": "ipython3",
   "version": "3.6.8"
  }
 },
 "nbformat": 4,
 "nbformat_minor": 2
}
